{
 "cells": [
  {
   "cell_type": "code",
   "execution_count": 1,
   "metadata": {},
   "outputs": [],
   "source": [
    "import casadi as ca\n",
    "import numpy as np"
   ]
  },
  {
   "cell_type": "code",
   "execution_count": 2,
   "metadata": {},
   "outputs": [],
   "source": [
    "def create_opt_problem(fi_func, N_xi, hi_func):\n",
    "    xi = ca.SX.sym(\"xi\",N_xi)\n",
    "    fi = fi_func(xi)\n",
    "    g = hi_func(xi)\n",
    "    # Define proximal solver\n",
    "    solver_opt = {}\n",
    "    solver_opt['print_time'] = False\n",
    "    solver_opt['ipopt'] = {\n",
    "        'max_iter': 500,\n",
    "        'print_level': 1,\n",
    "        'acceptable_tol': 1e-6,\n",
    "        'acceptable_obj_change_tol': 1e-6\n",
    "    }\n",
    "\n",
    "    nlp = {'x':xi, 'g':g, 'f':fi}\n",
    "#     print(nlp)\n",
    "    solver = ca.nlpsol('solver', 'ipopt', nlp, solver_opt)\n",
    "    return solver"
   ]
  },
  {
   "cell_type": "code",
   "execution_count": 3,
   "metadata": {},
   "outputs": [],
   "source": [
    "def create_subproblem(fi_func, Ai, rho, hi_func):\n",
    "    N_lambda, N_yi = np.shape(Ai)\n",
    "    yi = ca.SX.sym(\"yi\",N_yi)\n",
    "    xi = ca.SX.sym(\"xi\",N_yi)\n",
    "    sigma_i = ca.SX.sym('sigma_i',N_yi,N_yi)\n",
    "    lambda_ = ca.SX.sym(\"lambda\",N_lambda)\n",
    "    \n",
    "    fi = fi_func(yi) + lambda_.T @ Ai @ yi + rho/2 * (yi - xi).T @ sigma_i @ (yi - xi)\n",
    "    p = ca.vertcat(lambda_, xi, ca.reshape(sigma_i, -1,1))\n",
    "    g = hi_func(yi)\n",
    "    # Define proximal solver\n",
    "    solver_opt = {}\n",
    "    solver_opt['print_time'] = False\n",
    "    solver_opt['ipopt'] = {\n",
    "        'max_iter': 500,\n",
    "        'print_level': 1,\n",
    "        'acceptable_tol': 1e-6,\n",
    "        'acceptable_obj_change_tol': 1e-6\n",
    "    }\n",
    "\n",
    "    nlp = {'x':yi, 'g':g, 'f':fi, 'p': p}\n",
    "#     print(nlp)\n",
    "    solver = ca.nlpsol('solver', 'ipopt', nlp, solver_opt)\n",
    "    return solver"
   ]
  },
  {
   "cell_type": "code",
   "execution_count": 4,
   "metadata": {},
   "outputs": [],
   "source": [
    "def constraint_jac_approx(yi, hi_func, hi_jac_func):\n",
    "    constraint_res = hi_func(yi)    #  Residue\n",
    "    Nh = np.shape(constraint_res)[0]\n",
    "    Ny = np.shape(yi)[0]\n",
    "    zero_row = ca.DM.zeros(1,Ny)\n",
    "    hi_jac = hi_jac_func(yi)\n",
    "    for i in range(Nh):\n",
    "        if constraint_res[i] != 0:    #  TODO: deal with small value\n",
    "            hi_jac[i,:] = zero_row\n",
    "    hi_jac = ca.DM.zeros(Nh,Ny)\n",
    "    return hi_jac"
   ]
  },
  {
   "cell_type": "code",
   "execution_count": 5,
   "metadata": {},
   "outputs": [],
   "source": [
    "def modified_grad(fi_grad, hi_jac_approx, hi_jac_real, kappa_i):\n",
    "    return fi_grad + (hi_jac_real - hi_jac_approx).T @ kappa_i"
   ]
  },
  {
   "cell_type": "code",
   "execution_count": 6,
   "metadata": {},
   "outputs": [],
   "source": [
    "# # Test QP subprobelm\n",
    "# A_list = []\n",
    "# A = ca.diag([1,1])\n",
    "# A = ca.DM([[1,1],[1,1]])\n",
    "# A_list += [A]\n",
    "# b = ca.DM([0,0])\n",
    "# mu = 1e5\n",
    "# N_hi_list = [1]\n",
    "# QP_solver = create_QP_problem(A_list, b,  mu, N_hi_list)\n",
    "# delta_yi_list = [0.1,-0.2]\n",
    "# s_list = [0,0]\n",
    "\n",
    "# nl_qp = {}\n",
    "# nl_qp['lbg'] = [0] * (3)\n",
    "# nl_qp['ubg'] = [0] * (3)\n",
    "# nl_qp['lbx'] =  [-np.inf] * (2+2)    # delta_y and s lower bound\n",
    "# nl_qp['ubx'] =  [+np.inf] * (2+2)    # delta_y and s upper bound\n",
    "\n",
    "# nl_qp['x0'] = delta_yi_list + s_list    #  Initial guess\n",
    "\n",
    "# H_para = ca.reshape(ca.diag([2,2]),-1,1)\n",
    "# modified_grad_value = ca.DM([1,1])\n",
    "# y = ca.DM([-2,-2])\n",
    "# Ci = ca.DM.zeros(2,1)\n",
    "# Ci = ca.DM([3,1])\n",
    "# lambda_ = ca.DM.zeros(2,1)\n",
    "# p = ca.vertcat(lambda_, H_para, modified_grad_value, y, Ci)\n",
    "# nl_qp['p'] = ca.DM(p)\n",
    "# QP_sol = QP_solver(**nl_qp)\n",
    "\n",
    "# QP_sol"
   ]
  },
  {
   "cell_type": "code",
   "execution_count": 7,
   "metadata": {},
   "outputs": [],
   "source": [
    "def create_QP_problem(A_list, b,  mu, N_hi_list):\n",
    "    N = len(A_list)\n",
    "    N_lambda = np.shape(A_list[0])[0]\n",
    "    \n",
    "    s = ca.SX.sym(\"s\", N_lambda)\n",
    "    lambda_ = ca.SX.sym(\"lambda_\", N_lambda)\n",
    "    \n",
    "    delta_yi_list = []\n",
    "    fkh_hess_col_list = [] \n",
    "    modiefied_grad_col_list = []\n",
    "    Ci_col_list = []\n",
    "    \n",
    "    yi_list = []\n",
    "    obj = 0\n",
    "    sigma_Ai = 0\n",
    "    g = []\n",
    "    for i in range(N):\n",
    "        Ai = A_list[i]\n",
    "        N_delta_yi = np.shape(Ai)[1]\n",
    "        Hi = ca.SX.sym(\"Hi\" + str(i), N_delta_yi, N_delta_yi)\n",
    "        gi = ca.SX.sym(\"gi\" + str(i), N_delta_yi)\n",
    "        yi = ca.SX.sym(\"yi\" + str(i), N_delta_yi)\n",
    "        Ci = ca.SX.sym(\"Ci\" + str(i), N_hi_list[i], N_delta_yi)\n",
    "        \n",
    "        fkh_hess_col_list += [ca.reshape(Hi, -1, 1)]\n",
    "        modiefied_grad_col_list += [ca.reshape(gi, -1, 1)]\n",
    "        yi_list += [yi]\n",
    "        \n",
    "        delta_yi = ca.SX.sym(\"delta_yi\" + str(i),N_delta_yi)\n",
    "        delta_yi_list += [delta_yi]\n",
    "    \n",
    "        obj += 1/2 * delta_yi.T @ Hi @ delta_yi + gi.T @ delta_yi\n",
    "        sigma_Ai += Ai @ (yi + delta_yi)\n",
    "        \n",
    "        Ci_col_list += [ca.reshape(Ci, -1, 1)]\n",
    "        g += [Ci @ delta_yi]\n",
    "    obj += lambda_.T @ s + mu/2 * s.T @ s\n",
    "    x = ca.vertcat(*delta_yi_list, s)\n",
    "    p = ca.vertcat(lambda_, *(fkh_hess_col_list + modiefied_grad_col_list + yi_list + Ci_col_list))\n",
    "\n",
    "    g += [ sigma_Ai - b - s ]\n",
    "    g = ca.vertcat(*g)\n",
    "    # Define proximal solver\n",
    "    solver_opt = {}\n",
    "    solver_opt['print_time'] = False\n",
    "    solver_opt['ipopt'] = {\n",
    "        'max_iter': 500,\n",
    "        'print_level': 1,\n",
    "        'acceptable_tol': 1e-6,\n",
    "        'acceptable_obj_change_tol': 1e-6\n",
    "    }\n",
    "\n",
    "    nlp = {'x':x, 'g':g, 'f':obj, 'p': p}\n",
    "#     print(nlp)\n",
    "    solver = ca.nlpsol('solver', 'ipopt', nlp, solver_opt)\n",
    "    return solver    "
   ]
  },
  {
   "cell_type": "markdown",
   "metadata": {},
   "source": [
    "### Remark\n",
    "1. The quality of solution depends to a large degree on the $\\sigma$\n",
    "2. As N increase, the solution of y divergents under large $\\mu$ (1e5).\n",
    "3. minimal $\\log_{10} (\\|x -x ^{*}\\|_{\\infty})$ is -0.0803939. Cannot be arbitrarily small."
   ]
  },
  {
   "cell_type": "code",
   "execution_count": 8,
   "metadata": {},
   "outputs": [],
   "source": [
    "np.random.seed(1)\n",
    "N = 2500 # Should test with 25000\n",
    "Nx = 4\n",
    "eps = 1e-5\n",
    "# sigma_i = 1\n",
    "# sigma_bar_i = 1\n",
    "sigma_i = 0.5\n",
    "sigma_bar_i = 0.5\n",
    "# rho = 0.75\n",
    "rho = 1\n",
    "N_itermax = 10\n",
    "\n",
    "# Define A matrix\n",
    "A_list = []\n",
    "NA_col = int(N * Nx / 2)\n",
    "I = ca.diag([1,1])\n",
    "for i in range(N):\n",
    "    A = ca.DM.zeros(NA_col, Nx)\n",
    "    if i == 0:\n",
    "        A[NA_col-2: , :2] = -I\n",
    "    else:\n",
    "        A[(i-1)*2: (i-1)*2+2, :2] = -I        \n",
    "    A[i*2:i*2+2,Nx-2:] = I\n",
    "    A_list += [A]\n",
    "# Define b\n",
    "b = ca.DM.zeros(NA_col,1)"
   ]
  },
  {
   "cell_type": "code",
   "execution_count": 9,
   "metadata": {},
   "outputs": [],
   "source": [
    "# Define parameter\n",
    "eta_list = []\n",
    "eta_nom_list = []\n",
    "eta_bar_list = []\n",
    "eta_bar_nom_list = []\n",
    "\n",
    "for i in range(N):\n",
    "    eta_nom = np.array([[N * np.cos(2*(i+1) * np.pi / N)],[N * np.sin(2*(i+1) * np.pi / N)]])\n",
    "    eta_nom_list += [eta_nom]\n",
    "    eta = eta_nom + sigma_i * np.random.randn(2,1)\n",
    "    eta_list +=  [ca.DM(eta)]\n",
    "    \n",
    "    eta_bar_nom = 2 * N * np.sin(np.pi / N)\n",
    "    eta_bar_nom_list +[eta_bar_nom]\n",
    "    eta_bar =  eta_bar_nom + sigma_i * np.random.randn(1)\n",
    "    eta_bar_list += [ca.DM(eta_bar)]\n"
   ]
  },
  {
   "cell_type": "code",
   "execution_count": 10,
   "metadata": {},
   "outputs": [],
   "source": [
    "# Define obejective function\n",
    "fi_list = []\n",
    "fi_func_list = []\n",
    "x = ca.SX.sym(\"x\",Nx)    #  $x_{i}=\\left(\\chi_{i}^{\\top}, \\zeta_{i}^{\\top}\\right)^{\\top} \\in \\mathbb{R}^{4}$\n",
    "for i in range(N):\n",
    "    if i == N-1:\n",
    "        fi = 1 / (4 * sigma_i ** 2) * (x[0:2] - eta_list[i]).T @ (x[0:2] - eta_list[i]) + 1 / (4 * sigma_i**2) * (x[2:] - eta_list[0]).T @ (x[2:] - eta_list[0]) + 1 / (2 * sigma_bar_i**2) * ( ca.norm_2(x[0:2] - x[2:]) - eta_bar_list[i] )**2\n",
    "#         fi = 1 / (4 * sigma_i ** 2) * (x[0:2] - eta_list[i]).T @ (x[0:2] - eta_list[i]) + 1 / (4 * sigma_i**2) * (x[2:] - eta_list[0]).T @ (x[2:] - eta_list[0]) \n",
    "    else:\n",
    "        fi = 1 / (4 * sigma_i ** 2) * (x[0:2] - eta_list[i]).T @ (x[0:2] - eta_list[i]) + 1 / (4 * sigma_i**2) * (x[2:] - eta_list[i+1]).T @ (x[2:] - eta_list[i+1]) + 1 / (2 * sigma_bar_i**2) * (ca.norm_2(x[0:2] - x[2:]) - eta_bar_list[i])**2\n",
    "#         fi = 1 / (4 * sigma_i ** 2) * (x[0:2] - eta_list[i]).T @ (x[0:2] - eta_list[i]) + 1 / (4 * sigma_i**2) * (x[2:] - eta_list[i+1]).T @ (x[2:] - eta_list[i+1]) \n",
    "    fi_list += [fi]\n",
    "    fi_func = ca.Function(\"fi_func\", [x], [fi])\n",
    "    fi_func_list += [fi_func]"
   ]
  },
  {
   "cell_type": "code",
   "execution_count": 11,
   "metadata": {},
   "outputs": [],
   "source": [
    "# fi_list"
   ]
  },
  {
   "cell_type": "code",
   "execution_count": 12,
   "metadata": {},
   "outputs": [],
   "source": [
    "# Define gradtient function\n",
    "fi_grad_list = []\n",
    "fi_grad_func_list = []\n",
    "for i in range(N):\n",
    "    fi_grad = ca.gradient(fi_list[i], x)\n",
    "    fi_grad_list += [fi_grad]\n",
    "    fi_grad_func = ca.Function(\"fi_grad_func\", [x], [fi_grad])\n",
    "    fi_grad_func_list += [fi_grad_func]"
   ]
  },
  {
   "cell_type": "code",
   "execution_count": 13,
   "metadata": {},
   "outputs": [],
   "source": [
    "# Define inequality constraints\n",
    "hi_list = []\n",
    "hi_func_list = []\n",
    "Nhi_list = []\n",
    "for i in range(N):\n",
    "    hi = (ca.norm_2(x[0:2] - x[2:]) - eta_bar_list[i])**2 - sigma_bar_i ** 2\n",
    "#     hi = ca.DM(0)\n",
    "    hi_list += [hi]\n",
    "    hi_func = ca.Function(\"hi_func\", [x], [hi])\n",
    "    hi_func_list += [hi_func]\n",
    "    # Deal with the number of inequality constraints for each i.\n",
    "    Nhi = np.shape(hi)[0]\n",
    "    Nhi_list += [Nhi]"
   ]
  },
  {
   "cell_type": "code",
   "execution_count": 14,
   "metadata": {},
   "outputs": [],
   "source": [
    "# Define approximate jacobian, real jacobian and Hessian.\n",
    "kappa_i_list = []\n",
    "hi_jac_list = []\n",
    "hi_jac_func_list = []\n",
    "fkh_hess_i_list = []\n",
    "fkh_hess_func_list = []\n",
    "for i in range(N):\n",
    "    # Kappa\n",
    "    kappa_i = ca.SX.sym(\"kappa_i\",Nhi)\n",
    "    kappa_i_list += [kappa_i]\n",
    "    # Jacobian function\n",
    "    hi_jac = ca.jacobian(hi_list[i],x)\n",
    "    hi_jac_list += [hi_jac]\n",
    "    hi_jac_func = ca.Function(\"hi_jac_func\",[x],[hi_jac])\n",
    "    hi_jac_func_list +=  [hi_jac_func]\n",
    "    # Hessian fucntion\n",
    "    fi = fi_list[i]\n",
    "    hi = hi_list[i]\n",
    "    fkh_i = fi + kappa_i.T @ hi\n",
    "    fkh_hess_i = ca.hessian(fkh_i, x)[0]\n",
    "    fkh_hess_i_func = ca.Function(\"fkh_hess_i_func\", [x, kappa_i], [fkh_hess_i])\n",
    "    fkh_hess_i_list += [fkh_hess_i]\n",
    "    fkh_hess_func_list += [fkh_hess_i_func]"
   ]
  },
  {
   "cell_type": "code",
   "execution_count": 15,
   "metadata": {},
   "outputs": [],
   "source": [
    "subsolver_list = []\n",
    "# Define subproblem solvers\n",
    "for i in range(N):\n",
    "    Ai = A_list[i]\n",
    "    fi_func = fi_func_list[i]\n",
    "    hi_func = hi_func_list[i]\n",
    "    subsolver_list += [create_subproblem(fi_func, Ai, rho, hi_func)]"
   ]
  },
  {
   "cell_type": "code",
   "execution_count": 16,
   "metadata": {},
   "outputs": [],
   "source": [
    "opt_solver_list = []\n",
    "for i in range(N):\n",
    "    Ai = A_list[i]\n",
    "    N_xi = np.shape(Ai)[1]\n",
    "    fi_func = fi_func_list[i]\n",
    "    hi_func = hi_func_list[i]\n",
    "    opt_solver_list += [create_opt_problem(fi_func, N_xi, hi_func)]"
   ]
  },
  {
   "cell_type": "code",
   "execution_count": 17,
   "metadata": {},
   "outputs": [],
   "source": [
    "# Define QP problem\n",
    "mu = 10\n",
    "QP_solver = create_QP_problem(A_list, b,  mu, Nhi_list)"
   ]
  },
  {
   "cell_type": "code",
   "execution_count": 18,
   "metadata": {},
   "outputs": [],
   "source": [
    "# Initial guess\n",
    "delta_yi_list = []\n",
    "Sigma_i_list = []\n",
    "xi_list = []\n",
    "yi_list = []\n",
    "lbhi_list = []\n",
    "ubhi_list = []\n",
    "lbx_list = []\n",
    "ubx_list = []\n",
    "Nx = 0\n",
    "Nhi_sum = 0\n",
    "for i in range(N):\n",
    "    Ai = A_list[i]\n",
    "    N_lambda, N_xi = np.shape(Ai)\n",
    "    Nx += N_xi\n",
    "    Nhi = Nhi_list[i]\n",
    "    Nhi_sum += Nhi\n",
    "    xi = np.random.randn(N_xi,1).flatten().tolist()\n",
    "# #     xi = ca.DM.zeros(N_xi,1).full().flatten().tolist()\n",
    "#     if i == N-1:\n",
    "#         xi = ca.vertcat(eta_list[N-1],eta_list[0]).full().flatten().tolist()\n",
    "#     else:\n",
    "#         xi = ca.vertcat(eta_list[i],eta_list[i+1]).full().flatten().tolist()\n",
    "    xi_list += [xi]\n",
    "\n",
    "#     print(N_xi)\n",
    "    Sigma_i_list += [ca.diag([1] * N_xi)]\n",
    "    \n",
    "    lbhi_list += [[-ca.inf] * Nhi]\n",
    "    ubhi_list += [[0] * Nhi]\n",
    "    yi = np.random.randn(N_xi,1).flatten().tolist()\n",
    "#     yi = xi\n",
    "    yi_list += [yi]   \n",
    "#     yi_list += [[0] * N_xi]\n",
    "    lbx_list += [[-ca.inf] * N_xi]\n",
    "    ubx_list += [[ca.inf] * N_xi]\n",
    "lambda_ = np.random.randn(N_lambda,1)\n",
    "lambda_ = ca.DM(lambda_)\n",
    "# lambda_ = ca.DM.zeros(N_lambda,1)\n",
    "s_list = [0] * N_lambda\n",
    "delta_yi_list = sum(yi_list,[])"
   ]
  },
  {
   "cell_type": "code",
   "execution_count": 19,
   "metadata": {},
   "outputs": [],
   "source": [
    "# yi_list"
   ]
  },
  {
   "cell_type": "code",
   "execution_count": 20,
   "metadata": {},
   "outputs": [
    {
     "name": "stdout",
     "output_type": "stream",
     "text": [
      "\n",
      "******************************************************************************\n",
      "This program contains Ipopt, a library for large-scale nonlinear optimization.\n",
      " Ipopt is released as open source code under the Eclipse Public License (EPL).\n",
      "         For more information visit http://projects.coin-or.org/Ipopt\n",
      "******************************************************************************\n",
      "\n"
     ]
    }
   ],
   "source": [
    "# Define opt solver\n",
    "xi_opt_sol_list = []\n",
    "\n",
    "nl_opt = {}\n",
    "nl_opt['x0'] = []\n",
    "for i in range(N):\n",
    "    Ai = A_list[i]\n",
    "    N_lambda_i, N_xi = np.shape(Ai)\n",
    "    nl_opt['lbg'] = lbhi_list[i]\n",
    "    nl_opt['ubg'] = ubhi_list[i]    \n",
    "    \n",
    "    if i == N-1:\n",
    "        x0 = ca.vertcat(eta_list[N-1],eta_list[0]).full().flatten().tolist()\n",
    "    else:\n",
    "        x0 = ca.vertcat(eta_list[i],eta_list[i+1]).full().flatten().tolist()\n",
    "    \n",
    "    nl_opt['x0'] = x0\n",
    "    nl_opt['lbx'] = lbx_list[i]\n",
    "    nl_opt['ubx'] = ubx_list[i]\n",
    "    solver_optproblem = opt_solver_list[i]\n",
    "    xi_opt_sol = solver_optproblem(**nl_opt)\n",
    "#         print(yi_sol)\n",
    "    xi_opt_sol_list += [xi_opt_sol['x'].full().flatten().tolist().copy()]"
   ]
  },
  {
   "cell_type": "code",
   "execution_count": 21,
   "metadata": {},
   "outputs": [],
   "source": [
    "# xi_opt_sol_list"
   ]
  },
  {
   "cell_type": "code",
   "execution_count": 22,
   "metadata": {},
   "outputs": [],
   "source": [
    "# Define solver\n",
    "nl_sub = {}\n",
    "\n",
    "nl_qp = {}\n",
    "nl_qp['lbg'] = [0] * (Nhi_sum + N_lambda)\n",
    "nl_qp['ubg'] = [0] * (Nhi_sum + N_lambda)\n",
    "nl_qp['lbx'] = sum(lbx_list,[]) + [-np.inf] * N_lambda    # delta_y and s lower bound\n",
    "nl_qp['ubx'] = sum(ubx_list,[]) + [+np.inf] * N_lambda    # delta_y and s upper bound"
   ]
  },
  {
   "cell_type": "code",
   "execution_count": 23,
   "metadata": {},
   "outputs": [],
   "source": [
    "# Track solution\n",
    "yi_sol_list = []\n",
    "delta_y_sol_list = []\n",
    "lambda_list = []\n",
    "x_sol_list = []\n",
    "s_sol_list = []\n",
    "x_sol_list += [xi_list.copy()]\n",
    "lambda_list += lambda_.full().flatten().tolist()"
   ]
  },
  {
   "cell_type": "code",
   "execution_count": 24,
   "metadata": {},
   "outputs": [],
   "source": [
    "# lambda_"
   ]
  },
  {
   "cell_type": "code",
   "execution_count": 25,
   "metadata": {},
   "outputs": [],
   "source": [
    "# solve problem\n",
    "\n",
    "for i in range(N_itermax):\n",
    "    sum_Ay = 0\n",
    "    kappa_sol_list = []\n",
    "    # Step 1: solve the subproblem      \n",
    "    for j in range(N):\n",
    "        Ai = A_list[j]\n",
    "        N_lambda_i, N_xi = np.shape(Ai)\n",
    "        Sigma_i = Sigma_i_list[j]\n",
    "        nl_sub['lbg'] = lbhi_list[j]\n",
    "        nl_sub['ubg'] = ubhi_list[j]    \n",
    "        nl_sub['x0'] = yi_list[j]\n",
    "        nl_sub['lbx'] = lbx_list[j]\n",
    "        nl_sub['ubx'] = ubx_list[j]\n",
    "        nl_sub['p'] = lambda_list + xi_list[j] + ca.reshape(Sigma_i, -1, 1).full().flatten().tolist()\n",
    "#         print(nl_sub)\n",
    "        solver_subproblem = subsolver_list[j]\n",
    "        yi_sol = solver_subproblem(**nl_sub)\n",
    "#         print(yi_sol)\n",
    "        yi_list[j] = yi_sol['x'].full().flatten().tolist()\n",
    "#         print(\"yi_sol\",yi_sol['x'])\n",
    "        yi_sol_list += [yi_list[j].copy()]\n",
    "        kappa_i_sol = yi_sol['lam_g']\n",
    "        kappa_sol_list += [kappa_i_sol]\n",
    "        \n",
    "        sum_Ay += Ai @ yi_sol['x']\n",
    "\n",
    "    # Step 2: Check if the tolerance satisfied\n",
    "    #TODO: modify\n",
    "#     N_flag = 0\n",
    "#     for j in range(N):\n",
    "#         if rho * ca.norm_1( Sigma_i_list[j] @ ca.DM(yi_list[j])) <= eps:\n",
    "#             N_flag += 1\n",
    "#     if ca.norm_1(sum_Ay - b) <= eps and N_flag == N:\n",
    "#         break\n",
    "    # Step3: update Jacobian approximations, calculate the modified gradient, and update Hessian\n",
    "    Ci_list = []    #  constraint Jacobian\n",
    "    g_list = []    #  modified gradient\n",
    "    H_list = []    #  Hessian\n",
    "    for j in range(N):\n",
    "        # 3.1 Choose Jacobian approximations\n",
    "        yi = yi_list[j]\n",
    "        hi_func = hi_func_list[j]\n",
    "        hi_jac_func = hi_jac_func_list[j]\n",
    "        fkh_hess_func = fkh_hess_func_list[j]\n",
    "        hi = hi_func(yi)\n",
    "        kappa_i_sol = kappa_sol_list[j]\n",
    "        fi_grad = fi_grad_func_list[j](yi)\n",
    "        hi_jac_real = hi_jac_func(yi)\n",
    "        \n",
    "        hi_jac_approx = constraint_jac_approx(yi, hi_func, hi_jac_func)\n",
    "        Ci_list += [ca.reshape(hi_jac_approx, -1, 1)]\n",
    "        gi = modified_grad(fi_grad, hi_jac_approx, hi_jac_real, kappa_i_sol)\n",
    "        g_list += [ca.reshape(gi, -1, 1)]\n",
    "        \n",
    "        Hi = fkh_hess_func(yi, kappa_i_sol)\n",
    "        H_list += [ca.reshape(Hi, -1, 1)]\n",
    "#         print(\"hi\", hi, \"kappa_i_sol\",kappa_i_sol, \"fi_grad\",fi_grad, \"hi_jac_real\",hi_jac_real, \"hi_jac_approx\",hi_jac_approx, \"gi\",gi, \"Hi\" ,Hi)\n",
    "    # Step 4: Solve QP problem\n",
    "    nl_qp['x0'] = delta_yi_list + s_list    #  Initial guess\n",
    "    \n",
    "    H_para = ca.vertcat(*H_list)\n",
    "    modified_grad_value = ca.vertcat(*g_list)\n",
    "    y = ca.vertcat(* sum(yi_list,[]))\n",
    "    Ci = ca.vertcat(*Ci_list)\n",
    "    lambda_ = ca.vertcat(lambda_list)\n",
    "    p = ca.vertcat(lambda_, H_para, modified_grad_value, y, Ci)\n",
    "    nl_qp['p'] = ca.DM(p)\n",
    "#     print(\"lambda_\",lambda_)\n",
    "#     print(\"H_para\", H_para)\n",
    "#     print(\"modified_grad_value\", modified_grad_value)\n",
    "#     print(\"y\",y)\n",
    "#     print(\"Ci\",Ci)\n",
    "    QP_sol = QP_solver(**nl_qp)\n",
    "#     print(QP_sol)\n",
    "    alpha1 = 1\n",
    "    alpha2 = 1\n",
    "    alpha3 = 1\n",
    "    # Step 5: Update x and lambda\n",
    "    pos = 0\n",
    "#     print(QP_sol['x'][0:Nx,:])\n",
    "    delta_y = QP_sol['x'][0:Nx,:]\n",
    "    delta_y_sol_list += [delta_y]\n",
    "    s_sol = QP_sol['x'][Nx:,:]\n",
    "    s_sol_list += [s_sol]\n",
    "    QP_list = QP_sol['x'].full().flatten().tolist()\n",
    "    lambda_QP = QP_sol['lam_g'][:N_lambda]\n",
    "#     print(\"lambda_QP\", lambda_QP)\n",
    "    x = ca.DM(sum(xi_list,[]))\n",
    "    y = ca.DM(sum(yi_list,[]))\n",
    "#     print(delta_y)\n",
    "#     print(y,x)\n",
    "    x_plus = x + alpha1 * (y - x) + alpha2 * delta_y\n",
    "    for j in range(N):\n",
    "        list_len = len(xi_list[j])\n",
    "        xi_list[j] = x_plus[pos:pos+list_len].full().flatten().tolist()\n",
    "        pos = pos+list_len\n",
    "#     print(xi_list)\n",
    "#     print(lambda_QP)\n",
    "    lambda_ = lambda_ + alpha3 * (lambda_QP - lambda_)\n",
    "    lambda_list = lambda_.full().flatten().tolist()\n",
    "    x_sol_list += [xi_list.copy()]"
   ]
  },
  {
   "cell_type": "code",
   "execution_count": 26,
   "metadata": {},
   "outputs": [],
   "source": [
    "# xi_opt_sol_list"
   ]
  },
  {
   "cell_type": "code",
   "execution_count": 27,
   "metadata": {},
   "outputs": [
    {
     "data": {
      "text/plain": [
       "[DM(3.3987),\n",
       " DM(0.226056),\n",
       " DM(-0.0588256),\n",
       " DM(-0.0841398),\n",
       " DM(-0.080111),\n",
       " DM(-0.0804331),\n",
       " DM(-0.0803909),\n",
       " DM(-0.0803942),\n",
       " DM(-0.0803938),\n",
       " DM(-0.0803939),\n",
       " DM(-0.0803939)]"
      ]
     },
     "execution_count": 27,
     "metadata": {},
     "output_type": "execute_result"
    }
   ],
   "source": [
    "err = []\n",
    "for i in range(N_itermax+1):\n",
    "    x_sol_opt_col = ca.reshape(ca.DM(xi_opt_sol_list),-1,1)\n",
    "    x_temp_col = ca.reshape(ca.DM(x_sol_list[i]),-1,1)\n",
    "    err += [ca.log10(ca.norm_inf(x_sol_opt_col-x_temp_col))]\n",
    "err"
   ]
  },
  {
   "cell_type": "code",
   "execution_count": 28,
   "metadata": {},
   "outputs": [],
   "source": [
    "# eta_list"
   ]
  },
  {
   "cell_type": "code",
   "execution_count": 29,
   "metadata": {},
   "outputs": [],
   "source": [
    "# eta_nom_list"
   ]
  },
  {
   "cell_type": "code",
   "execution_count": 30,
   "metadata": {},
   "outputs": [],
   "source": [
    "# lambda_list"
   ]
  },
  {
   "cell_type": "code",
   "execution_count": 31,
   "metadata": {},
   "outputs": [],
   "source": [
    "# yi_sol_list"
   ]
  },
  {
   "cell_type": "code",
   "execution_count": 32,
   "metadata": {},
   "outputs": [],
   "source": [
    "# s_sol_list"
   ]
  },
  {
   "cell_type": "code",
   "execution_count": 33,
   "metadata": {},
   "outputs": [],
   "source": [
    "# delta_y_sol_list"
   ]
  }
 ],
 "metadata": {
  "kernelspec": {
   "display_name": "Python 3",
   "language": "python",
   "name": "python3"
  },
  "language_info": {
   "codemirror_mode": {
    "name": "ipython",
    "version": 3
   },
   "file_extension": ".py",
   "mimetype": "text/x-python",
   "name": "python",
   "nbconvert_exporter": "python",
   "pygments_lexer": "ipython3",
   "version": "3.7.7"
  }
 },
 "nbformat": 4,
 "nbformat_minor": 4
}
