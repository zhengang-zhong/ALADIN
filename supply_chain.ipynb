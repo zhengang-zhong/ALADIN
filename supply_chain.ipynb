{
 "cells": [
  {
   "cell_type": "markdown",
   "metadata": {},
   "source": [
    "### Model\n",
    "supplier:\n",
    "$\\begin{aligned} \\dot{s}^{S}(\\tau) &=o_{r}^{S}\\left(\\tau-\\tau_{2}\\right)-o_{r}^{R}\\left(\\tau-\\tau_{1}\\right)-b^{S}(\\tau) / t_{b} \\\\ \\dot{o}_{u}^{S}(\\tau) &=o_{r}^{S}(\\tau)-o_{r}^{S}\\left(\\tau-\\tau_{2}\\right) \\\\ \\dot{b}^{S}(\\tau) &=o_{r}^{R}(\\tau)-o_{r}^{R}\\left(\\tau-\\tau_{1}\\right)-b^{S}(\\tau) / t_{b} \\end{aligned}$\n",
    "\n",
    "retailer: \n",
    "$\\begin{aligned} \\dot{s}^{R}(\\tau)&=o_{r}^{R}\\left(\\tau-\\tau_{1}-\\tau_{2}\\right)+b^{S}\\left(\\tau-\\tau_{2}\\right) / t_{b} -d_{r}\\left(\\tau-\\tau_{1}\\right)-b^{R}(\\tau) / t_{b}\\\\\n",
    "\\dot{o}_{u}^{R}(\\tau)&=o_{r}^{R}(\\tau)-o_{r}^{R}\\left(\\tau-\\tau_{1}-\\tau_{2}\\right)-b^{S}\\left(\\tau-\\tau_{2}\\right) / t_{b}\\\\\n",
    "\\dot{b}^{R}(\\tau)&=d_{r}^{R}(\\tau)-d_{r}^{R}\\left(\\tau-\\tau_{1}\\right)-b^{R}(\\tau) / t_{b} \\end{aligned}$"
   ]
  },
  {
   "cell_type": "markdown",
   "metadata": {},
   "source": [
    "#### Pade approximation\n",
    "delay = 2:$\n",
    "\\begin{array}{l}\n",
    "-\\mathrm{s}^3+6 \\mathrm{s}^2-15 \\mathrm{s}+15 \\\\\n",
    "\\hline \\mathrm{s}^3 + 6 \\mathrm{s}^2+15 \\mathrm{s}+15\n",
    "\\end{array}\n",
    "$\n",
    "\n",
    "delay = 1: $\n",
    "\\begin{array}{l}\n",
    "-\\mathrm{s}^3+12\\mathrm{s}^2-60\\mathrm{s}+120 \\\\\n",
    "\\hline \\mathrm{s}^3 + 12\\mathrm{s}^2+60 \\mathrm{s}+120\n",
    "\\end{array}\n",
    "$"
   ]
  },
  {
   "cell_type": "markdown",
   "metadata": {},
   "source": [
    "$\\tau_1 = 1$, $\\tau_2 = 2$\n",
    "\n",
    "Transfer into Laplace domain and approximate with 3rd order Pade approximation with\n",
    "\n",
    "$u_1 = o_r^S$, $u_2 = o_r^R$, $u_3 = d_r^R$\n",
    "\n",
    "$x_1 = s^S$, $x_2 = o^S_u$, $x_3 = b^S$, $x_4 = z_{11}$, $x_5 = \\dot{z}_{11}$, $x_6 = z^{(2)}_{11}$, $x_7 = z_{12}$, $x_8 = \\dot{z}_{12}$, $x_9 = z^{2}_{12}$, $x_{10} = s^{R}$, $x_{11} = o_u^R$, $x_{12} = b^R$, $x_{13} = z_{13}$, $x_{14} = \\dot{z}_{13}$, $x_{15} = z^{(2)}_{13}$, $x_{16} = z_{14}$, $x_{17} = \\dot{z}_{14}$, $x_{18} = z^{(2)}_{14}$, $x_{19} = z_{15}$, $x_{20} = \\dot{z}_{15}$, $x_{21} = z^{(2)}_{15}$\n",
    "\n",
    "\n",
    "$z_{11} = \\frac{1}{s^{3} + 12 s^2 + 60 s +120}u_1$, $z_{12} = \\frac{1}{s^3 + 6s^2 + 15s +15}u_2$, $z_{13} = \\frac{1}{s^3 + 4s^2 + 6.667s + 4.444}u_1$, $z_{14} = \\frac{1}{s^{3} + 12 s^2 + 60 s +120}u_2$, $z_{15} = \\frac{1}{s^3 + 6s^2 + 15s +15}u_3$"
   ]
  },
  {
   "cell_type": "markdown",
   "metadata": {},
   "source": [
    "#### State space\n",
    "$\\begin{aligned}\\dot{x}_1 &=  -u_1 + 24x_6 + 240x_4 + u_2 - 12x_9 - 30x_7 -x_3/t_b \\\\\\dot{x}_2 &=  2u_1 - 24x_6 - 240x_4\\\\\\dot{x}_3 &=  2u_2 - 12x_9  - 30x_7 -x_3/t_b \\\\ \\dot{x}_{10} &= -u_2 + 8x_{15} + 8.888x_{13} + (-x_3 + 24x_{18} +240x_{16})/t_b  +u_3 -12x_{21} - 30x_{19} - x_{12}/t_b\\\\ \\dot{x}_{11} &= 2u_2 -8x_{15} - 8.888x_{13} -(-x_3 + 24x_{18} + 240x_{16})/t_b\\\\ \\dot{x}_{12} &= 2u_3 -12x_{21} -30x_{19} - x_{12}/t_b        \\end{aligned}$"
   ]
  },
  {
   "cell_type": "code",
   "execution_count": 14,
   "metadata": {},
   "outputs": [],
   "source": [
    "import numpy as np\n",
    "import casadi as ca\n",
    "import sympy as sy"
   ]
  },
  {
   "cell_type": "code",
   "execution_count": 118,
   "metadata": {},
   "outputs": [],
   "source": [
    "def integrator_eular(f, x, u, d, delta_t):\n",
    "    \"\"\"\n",
    "    Explicit Eular solver using casadi.\n",
    "    Args:\n",
    "        f: First order ODE in casadi function (Nx + Nt -> Nx).\n",
    "        t: Current time.\n",
    "        x: Current value.\n",
    "        u: Current input.\n",
    "        delta_t: Step length.\n",
    "    Returns:\n",
    "        x_next: Vector of next value in casadi DM\n",
    "    \"\"\"\n",
    "    k1 = f(x, u, d)\n",
    "    x_next = x + delta_t * k1\n",
    "\n",
    "    return x_next"
   ]
  },
  {
   "cell_type": "code",
   "execution_count": 86,
   "metadata": {},
   "outputs": [],
   "source": [
    "Nx = 21\n",
    "Nu = 3\n",
    "x_SX = ca.SX.sym(\"x\",Nx)\n",
    "u_SX = ca.SX.sym(\"u\",Nu)\n",
    "tb = 1\n",
    "delta_t = 1"
   ]
  },
  {
   "cell_type": "code",
   "execution_count": 7,
   "metadata": {},
   "outputs": [],
   "source": [
    "A = ca.DM([\n",
    "    [0, 0, -1/tb, 240, 0, 24, -30, 0, -12, 0, 0, 0, 0, 0, 0, 0, 0, 0, 0, 0, 0],\n",
    "    [0, 0, 0, 240, 0, 24, 0, 0, 0, 0, 0, 0, 0, 0, 0, 0, 0, 0, 0, 0, 0],\n",
    "    [0, 0, -1/tb, 0, 0, 0, -30, 0, -12, 0, 0, 0, 0, 0, 0, 0, 0, 0, 0, 0, 0],\n",
    "    [0, 0, 0, 0, 1, 0, 0, 0, 0, 0, 0, 0, 0, 0, 0, 0, 0, 0, 0, 0, 0],\n",
    "    [0, 0, 0, 0, 0, 1, 0, 0, 0, 0, 0, 0, 0, 0, 0, 0, 0, 0, 0, 0, 0],\n",
    "    [0, 0, 0, -120, -60, -12, 0, 0, 0, 0, 0, 0, 0, 0, 0, 0, 0, 0, 0, 0, 0],\n",
    "    [0, 0, 0, 0, 0, 0, 0, 1, 0, 0, 0, 0, 0, 0, 0, 0, 0, 0, 0, 0, 0],\n",
    "    [0, 0, 0, 0, 0, 0, 0, 0, 1, 0, 0, 0, 0, 0, 0, 0, 0, 0, 0, 0, 0],\n",
    "    [0, 0, 0, 0, 0, 0, -15, -15, -6, 0, 0, 0, 0, 0, 0, 0, 0, 0, 0, 0, 0], \n",
    "    [0, 0, -1/tb, 0, 0, 0, 0, 0, 0, 0, 0, -1/tb, 8.888, 0, 8, 240/tb, 0, 24/tb, -30, 0, -12],    \n",
    "    [0, 0, 1/tb, 0, 0, 0, 0, 0, 0, 0, 0, 0, -8.888, 0, -8, -240/tb, 0, -24/tb, 0, 0, 0],\n",
    "    [0, 0, 0, 0, 0, 0, 0, 0, 0, 0, 0, -1/tb, 0, 0, 0, 0, 0, 0, -30, 0, -12],\n",
    "    [0, 0, 0, 0, 0, 0, 0, 0, 0, 0, 0, 0, 0, 1, 0, 0, 0, 0, 0, 0, 0],\n",
    "    [0, 0, 0, 0, 0, 0, 0, 0, 0, 0, 0, 0, 0, 0, 1, 0, 0, 0, 0, 0, 0],\n",
    "    [0, 0, 0, 0, 0, 0, 0, 0, 0, 0, 0, 0, -4.444, -6.667, -4, 0, 0, 0, 0, 0, 0],\n",
    "    [0, 0, 0, 0, 0, 0, 0, 0, 0, 0, 0, 0, 0, 0, 0, 0, 1, 0, 0, 0, 0],\n",
    "    [0, 0, 0, 0, 0, 0, 0, 0, 0, 0, 0, 0, 0, 0, 0, 0, 0, 1, 0, 0, 0],\n",
    "    [0, 0, 0, 0, 0, 0, 0, 0, 0, 0, 0, 0, 0, 0, 0, -120, -60, -12, 0, 0, 0],\n",
    "    [0, 0, 0, 0, 0, 0, 0, 0, 0, 0, 0, 0, 0, 0, 0, 0, 0, 0, 0, 1, 0],\n",
    "    [0, 0, 0, 0, 0, 0, 0, 0, 0, 0, 0, 0, 0, 0, 0, 0, 0, 0, 0, 0, 1],\n",
    "    [0, 0, 0, 0, 0, 0, 0, 0, 0, 0, 0, 0, 0, 0, 0, 0, 0, 0, -15, -15, -6]\n",
    "])"
   ]
  },
  {
   "cell_type": "code",
   "execution_count": 17,
   "metadata": {},
   "outputs": [],
   "source": [
    "A_np = np.array([\n",
    "    [0, 0, -1/tb, 240, 0, 24, -30, 0, -12, 0, 0, 0, 0, 0, 0, 0, 0, 0, 0, 0, 0],\n",
    "    [0, 0, 0, 240, 0, 24, 0, 0, 0, 0, 0, 0, 0, 0, 0, 0, 0, 0, 0, 0, 0],\n",
    "    [0, 0, -1/tb, 0, 0, 0, -30, 0, -12, 0, 0, 0, 0, 0, 0, 0, 0, 0, 0, 0, 0],\n",
    "    [0, 0, 0, 0, 1, 0, 0, 0, 0, 0, 0, 0, 0, 0, 0, 0, 0, 0, 0, 0, 0],\n",
    "    [0, 0, 0, 0, 0, 1, 0, 0, 0, 0, 0, 0, 0, 0, 0, 0, 0, 0, 0, 0, 0],\n",
    "    [0, 0, 0, -120, -60, -12, 0, 0, 0, 0, 0, 0, 0, 0, 0, 0, 0, 0, 0, 0, 0],\n",
    "    [0, 0, 0, 0, 0, 0, 0, 1, 0, 0, 0, 0, 0, 0, 0, 0, 0, 0, 0, 0, 0],\n",
    "    [0, 0, 0, 0, 0, 0, 0, 0, 1, 0, 0, 0, 0, 0, 0, 0, 0, 0, 0, 0, 0],\n",
    "    [0, 0, 0, 0, 0, 0, -15, -15, -6, 0, 0, 0, 0, 0, 0, 0, 0, 0, 0, 0, 0], \n",
    "    [0, 0, -1/tb, 0, 0, 0, 0, 0, 0, 0, 0, -1/tb, 8.888, 0, 8, 240/tb, 0, 24/tb, -30, 0, -12],    \n",
    "    [0, 0, 1/tb, 0, 0, 0, 0, 0, 0, 0, 0, 0, -8.888, 0, -8, -240/tb, 0, -24/tb, 0, 0, 0],\n",
    "    [0, 0, 0, 0, 0, 0, 0, 0, 0, 0, 0, -1/tb, 0, 0, 0, 0, 0, 0, -30, 0, -12],\n",
    "    [0, 0, 0, 0, 0, 0, 0, 0, 0, 0, 0, 0, 0, 1, 0, 0, 0, 0, 0, 0, 0],\n",
    "    [0, 0, 0, 0, 0, 0, 0, 0, 0, 0, 0, 0, 0, 0, 1, 0, 0, 0, 0, 0, 0],\n",
    "    [0, 0, 0, 0, 0, 0, 0, 0, 0, 0, 0, 0, -4.444, -6.667, -4, 0, 0, 0, 0, 0, 0],\n",
    "    [0, 0, 0, 0, 0, 0, 0, 0, 0, 0, 0, 0, 0, 0, 0, 0, 1, 0, 0, 0, 0],\n",
    "    [0, 0, 0, 0, 0, 0, 0, 0, 0, 0, 0, 0, 0, 0, 0, 0, 0, 1, 0, 0, 0],\n",
    "    [0, 0, 0, 0, 0, 0, 0, 0, 0, 0, 0, 0, 0, 0, 0, -120, -60, -12, 0, 0, 0],\n",
    "    [0, 0, 0, 0, 0, 0, 0, 0, 0, 0, 0, 0, 0, 0, 0, 0, 0, 0, 0, 1, 0],\n",
    "    [0, 0, 0, 0, 0, 0, 0, 0, 0, 0, 0, 0, 0, 0, 0, 0, 0, 0, 0, 0, 1],\n",
    "    [0, 0, 0, 0, 0, 0, 0, 0, 0, 0, 0, 0, 0, 0, 0, 0, 0, 0, -15, -15, -6]\n",
    "])"
   ]
  },
  {
   "cell_type": "code",
   "execution_count": 9,
   "metadata": {},
   "outputs": [],
   "source": [
    "B = ca.DM([\n",
    "    [-1,1,0],\n",
    "    [2,0,0],\n",
    "    [0,2,0],\n",
    "    [0,0,0],\n",
    "    [0,0,0],\n",
    "    [1,0,0],\n",
    "    [0,0,0],\n",
    "    [0,0,0],\n",
    "    [0,1,0],\n",
    "    [0,-1,1],\n",
    "    [0,2,0],\n",
    "    [0,0,2],\n",
    "    [0,0,0],\n",
    "    [0,0,0],\n",
    "    [0,2,0],\n",
    "    [0,0,0],\n",
    "    [0,0,0],\n",
    "    [0,0,0],\n",
    "    [0,0,0],\n",
    "    [0,0,0],\n",
    "    [0,0,1]\n",
    "])"
   ]
  },
  {
   "cell_type": "code",
   "execution_count": null,
   "metadata": {},
   "outputs": [],
   "source": [
    "x_dot = A@x_SX + B@ u_SX\n",
    "x = sy.symbols('x1:22')\n",
    "u = sy.symbols('u1:4')\n",
    "\n",
    "x_dot = A_np@x + B_np@ u\n",
    "x_dot\n",
    "# s = sy.Symbol('s')\n",
    "\n",
    "# C_np = np.diag([1] * Nx)\n",
    "# I = np.diag([1] * Nx)\n",
    "\n",
    "# G = C_np @ sy.Matrix(s*I -A_np).inv() @ B_np\n",
    "\n",
    "# G\n",
    "\n",
    "# G @ sy.Matrix(u)\n",
    "\n",
    "# A_np_1 = A_np[:9,:9]\n",
    "# A_np_1\n",
    "\n",
    "# B_np_1 = B_np[:9,:]\n",
    "# B_np_1\n",
    "\n",
    "# x = sy.symbols('x1:10')\n",
    "# u = sy.symbols('u1:4')\n",
    "# s = sy.Symbol('s')\n",
    "# C_np_1 = np.diag([1] * 9)\n",
    "# I_1 = np.diag([1] * 9)\n",
    "# G = sy.expand(C_np_1 @ sy.Matrix(s*I -A_np_1).inv() @ B_np_1)\n",
    "# G"
   ]
  },
  {
   "cell_type": "code",
   "execution_count": 47,
   "metadata": {},
   "outputs": [],
   "source": [
    "B_np = np.array([\n",
    "    [-1,1,0],\n",
    "    [2,0,0],\n",
    "    [0,2,0],\n",
    "    [0,0,0],\n",
    "    [0,0,0],\n",
    "    [1,0,0],\n",
    "    [0,0,0],\n",
    "    [0,0,0],\n",
    "    [0,1,0],\n",
    "    [0,-1,1],\n",
    "    [0,2,0],\n",
    "    [0,0,2],\n",
    "    [0,0,0],\n",
    "    [0,0,0],\n",
    "    [0,2,0],\n",
    "    [0,0,0],\n",
    "    [0,0,0],\n",
    "    [0,0,0],\n",
    "    [0,0,0],\n",
    "    [0,0,0],\n",
    "    [0,0,1]\n",
    "])"
   ]
  },
  {
   "cell_type": "code",
   "execution_count": 162,
   "metadata": {},
   "outputs": [],
   "source": [
    "A_sub1 = A_np[0:9,0:9]\n",
    "A_sub2 = A_np[9:,9:]\n",
    "B_sub1 = B_np[:9,:2]\n",
    "B_sub2 = B_np[9:,1:2]\n",
    "B_sub2 = np.hstack((B_sub2, A_np[9:,2].reshape(-1,1)))\n",
    "\n",
    "B_pert = B_np[9:,2:]"
   ]
  },
  {
   "cell_type": "code",
   "execution_count": 163,
   "metadata": {},
   "outputs": [],
   "source": [
    "Nx_sys1 = 9\n",
    "Nx_sys2 = 12\n",
    "Nu_sys1 = 2\n",
    "Nu_sys2 = 2\n",
    "Nd = 1\n",
    "x_sys1_SX = ca.SX.sym(\"x\",Nx_sys1)\n",
    "u_sys1_SX = ca.SX.sym(\"u\",Nu_sys1)\n",
    "\n",
    "x_sys2_SX = ca.SX.sym(\"x\",Nx_sys2)\n",
    "u_sys2_SX = ca.SX.sym(\"u\",Nu_sys2)\n",
    "\n",
    "\n",
    "pert_SX = ca.SX.sym(\"d\",Nd)"
   ]
  },
  {
   "cell_type": "code",
   "execution_count": 164,
   "metadata": {},
   "outputs": [],
   "source": [
    "f1 = ca.DM(A_sub1) @ x_sys1_SX + ca.DM(B_sub1) @ u_sys1_SX\n",
    "f1_func = ca.Function(\"f1_func\",[x_sys1_SX,u_sys1_SX,pert_SX],[f1])\n",
    "\n",
    "f1_dis = integrator_eular(f1_func, x_sys1_SX, u_sys1_SX, pert_SX, delta_t)\n",
    "f1_dis_func = ca.Function(\"f1_dis_func\",[x_sys1_SX,u_sys1_SX,pert_SX],[f1_dis])"
   ]
  },
  {
   "cell_type": "code",
   "execution_count": 165,
   "metadata": {},
   "outputs": [],
   "source": [
    "f2 = ca.DM(A_sub2) @ x_sys2_SX + ca.DM(B_sub2) @ u_sys2_SX + ca.DM(B_pert) @ pert_SX\n",
    "f2_func = ca.Function(\"f2_func\",[x_sys2_SX,u_sys2_SX,pert_SX],[f2])\n",
    "\n",
    "f2_dis = integrator_eular(f2_func, x_sys2_SX, u_sys2_SX, pert_SX, delta_t)\n",
    "f2_dis_func = ca.Function(\"f2_dis_func\",[x_sys2_SX,u_sys2_SX,pert_SX],[f2_dis])"
   ]
  },
  {
   "cell_type": "markdown",
   "metadata": {},
   "source": [
    "$$\n",
    "\\begin{array}{l}\n",
    "N=6, W_{s}^{R}=30, W_{o}^{R}=30, W_{\\Delta}^{R}=1 \\\\\n",
    "W_{s}^{S}=30, W_{o}^{S}=30, W_{\\Delta}^{S}=1\n",
    "\\end{array}\n",
    "$$"
   ]
  },
  {
   "cell_type": "markdown",
   "metadata": {},
   "source": [
    "#### Cost function: $$\n",
    "\\begin{aligned}\n",
    "J_{1} &=\\sum_{k=0}^{N-1}\\left(r_{s, k}^{R}-s_{k}^{R}\\right)^{2} W_{s}^{R}+\\left(r_{o, k}^{R}-o_{k}^{R}\\right)^{2} W_{o}^{R}+\\left(\\Delta o_{k}^{R}\\right)^{2} W_{\\Delta}^{R} \\\\\n",
    "J_{2} &=\\sum_{k=0}^{N-1}\\left(r_{s, k}^{S}-s_{k}^{S}\\right)^{2} W_{s}^{S}+\\left(r_{o, k}^{S}-o_{k}^{S}\\right)^{2} W_{o}^{S}+\\left(\\Delta o_{k}^{S}\\right)^{2} W_{\\Delta}^{S}\n",
    "\\end{aligned}\n",
    "$$"
   ]
  },
  {
   "cell_type": "code",
   "execution_count": null,
   "metadata": {},
   "outputs": [],
   "source": [
    "def create_opt_problem(fi_func, N_xi, hi_func):\n",
    "    xi = ca.SX.sym(\"xi\",N_xi)\n",
    "    fi = fi_func(xi)\n",
    "    g = hi_func(xi)\n",
    "    # Define proximal solver\n",
    "    solver_opt = {}\n",
    "    solver_opt['print_time'] = False\n",
    "    solver_opt['ipopt'] = {\n",
    "        'max_iter': 500,\n",
    "        'print_level': 1,\n",
    "        'acceptable_tol': 1e-6,\n",
    "        'acceptable_obj_change_tol': 1e-6\n",
    "    }\n",
    "\n",
    "    nlp = {'x':xi, 'g':g, 'f':fi}\n",
    "#     print(nlp)\n",
    "    solver = ca.nlpsol('solver', 'ipopt', nlp, solver_opt)\n",
    "    return solver"
   ]
  },
  {
   "cell_type": "code",
   "execution_count": null,
   "metadata": {},
   "outputs": [],
   "source": [
    "def create_subproblem(fi_func, Ai, rho, hi_func):\n",
    "    N_lambda, N_yi = np.shape(Ai)\n",
    "    yi = ca.SX.sym(\"yi\",N_yi)\n",
    "    xi = ca.SX.sym(\"xi\",N_yi)\n",
    "    sigma_i = ca.SX.sym('sigma_i',N_yi,N_yi)\n",
    "    lambda_ = ca.SX.sym(\"lambda\",N_lambda)\n",
    "    \n",
    "    fi = fi_func(yi) + lambda_.T @ Ai @ yi + rho/2 * (yi - xi).T @ sigma_i @ (yi - xi)\n",
    "    p = ca.vertcat(lambda_, xi, ca.reshape(sigma_i, -1,1))\n",
    "    g = hi_func(yi)\n",
    "    # Define proximal solver\n",
    "    solver_opt = {}\n",
    "    solver_opt['print_time'] = False\n",
    "    solver_opt['ipopt'] = {\n",
    "        'max_iter': 500,\n",
    "        'print_level': 1,\n",
    "        'acceptable_tol': 1e-6,\n",
    "        'acceptable_obj_change_tol': 1e-6\n",
    "    }\n",
    "\n",
    "    nlp = {'x':yi, 'g':g, 'f':fi, 'p': p}\n",
    "#     print(nlp)\n",
    "    solver = ca.nlpsol('solver', 'ipopt', nlp, solver_opt)\n",
    "    return solver"
   ]
  },
  {
   "cell_type": "code",
   "execution_count": null,
   "metadata": {},
   "outputs": [],
   "source": [
    "def constraint_jac_approx(yi, hi_func, hi_jac_func):\n",
    "    constraint_res = hi_func(yi)    #  Residue\n",
    "    Nh = np.shape(constraint_res)[0]\n",
    "    Ny = np.shape(yi)[0]\n",
    "    zero_row = ca.DM.zeros(1,Ny)\n",
    "    hi_jac = hi_jac_func(yi)\n",
    "    for i in range(Nh):\n",
    "        if constraint_res[i] != 0:    #  TODO: deal with small value\n",
    "            hi_jac[i,:] = zero_row\n",
    "    hi_jac = ca.DM.zeros(Nh,Ny)\n",
    "    return hi_jac"
   ]
  },
  {
   "cell_type": "code",
   "execution_count": null,
   "metadata": {},
   "outputs": [],
   "source": [
    "def modified_grad(fi_grad, hi_jac_approx, hi_jac_real, kappa_i):\n",
    "    return fi_grad + (hi_jac_real - hi_jac_approx).T @ kappa_i"
   ]
  },
  {
   "cell_type": "code",
   "execution_count": null,
   "metadata": {},
   "outputs": [],
   "source": [
    "def create_QP_problem(A_list, b,  mu, N_hi_list):\n",
    "    N = len(A_list)\n",
    "    N_lambda = np.shape(A_list[0])[0]\n",
    "    \n",
    "    s = ca.SX.sym(\"s\", N_lambda)\n",
    "    lambda_ = ca.SX.sym(\"lambda_\", N_lambda)\n",
    "    \n",
    "    delta_yi_list = []\n",
    "    fkh_hess_col_list = [] \n",
    "    modiefied_grad_col_list = []\n",
    "    Ci_col_list = []\n",
    "    \n",
    "    yi_list = []\n",
    "    obj = 0\n",
    "    sigma_Ai = 0\n",
    "    g = []\n",
    "    for i in range(N):\n",
    "        Ai = A_list[i]\n",
    "        N_delta_yi = np.shape(Ai)[1]\n",
    "        Hi = ca.SX.sym(\"Hi\" + str(i), N_delta_yi, N_delta_yi)\n",
    "        gi = ca.SX.sym(\"gi\" + str(i), N_delta_yi)\n",
    "        yi = ca.SX.sym(\"yi\" + str(i), N_delta_yi)\n",
    "        Ci = ca.SX.sym(\"Ci\" + str(i), N_hi_list[i], N_delta_yi)\n",
    "        \n",
    "        fkh_hess_col_list += [ca.reshape(Hi, -1, 1)]\n",
    "        modiefied_grad_col_list += [ca.reshape(gi, -1, 1)]\n",
    "        yi_list += [yi]\n",
    "        \n",
    "        delta_yi = ca.SX.sym(\"delta_yi\" + str(i),N_delta_yi)\n",
    "        delta_yi_list += [delta_yi]\n",
    "    \n",
    "        obj += 1/2 * delta_yi.T @ Hi @ delta_yi + gi.T @ delta_yi\n",
    "        sigma_Ai += Ai @ (yi + delta_yi)\n",
    "        \n",
    "        Ci_col_list += [ca.reshape(Ci, -1, 1)]\n",
    "        g += [Ci @ delta_yi]\n",
    "    obj += lambda_.T @ s + mu/2 * s.T @ s\n",
    "    x = ca.vertcat(*delta_yi_list, s)\n",
    "    p = ca.vertcat(lambda_, *(fkh_hess_col_list + modiefied_grad_col_list + yi_list + Ci_col_list))\n",
    "\n",
    "    g += [ sigma_Ai - b - s ]\n",
    "    g = ca.vertcat(*g)\n",
    "    # Define proximal solver\n",
    "    solver_opt = {}\n",
    "    solver_opt['print_time'] = False\n",
    "    solver_opt['ipopt'] = {\n",
    "        'max_iter': 500,\n",
    "        'print_level': 1,\n",
    "        'acceptable_tol': 1e-10,\n",
    "        'acceptable_obj_change_tol': 1e-10\n",
    "    }\n",
    "\n",
    "    nlp = {'x':x, 'g':g, 'f':obj, 'p': p}\n",
    "#     print(nlp)\n",
    "    solver = ca.nlpsol('solver', 'ipopt', nlp, solver_opt)\n",
    "    return solver    "
   ]
  },
  {
   "cell_type": "code",
   "execution_count": 166,
   "metadata": {},
   "outputs": [],
   "source": [
    "N = 6\n",
    "\n",
    "ref_sS = ca.SX.sym(\"ref_stock_supplier\",N)\n",
    "ref_sR = ca.SX.sym(\"ref_stock_retailer\",N)\n",
    "ref_oS = ca.SX.sym(\"ref_order_supplier\",N)\n",
    "ref_oR = ca.SX.sym(\"ref_order_retailer\",N)\n",
    "\n",
    "\n",
    "tb = 1\n",
    "delta_t = 1\n",
    "\n",
    "\n",
    "W_sR = 30\n",
    "W_oR = 30\n",
    "\n",
    "W_deltaR = 1\n",
    "W_deltaS = 1\n",
    "\n",
    "W_sS = 30\n",
    "W_oS = 30"
   ]
  },
  {
   "cell_type": "code",
   "execution_count": 217,
   "metadata": {},
   "outputs": [],
   "source": [
    "# Nx_sys1 = 9\n",
    "# Nx_sys2 = 12\n",
    "# Nu_sys1 = 2\n",
    "# Nu_sys2 = 2\n",
    "\n",
    "# system 1: Supply\n",
    "X_sys1_SX = ca.SX.sym(\"X1_SX\", Nx_sys1, N)\n",
    "U_sys1_SX = ca.SX.sym(\"U1_SX\", Nu_sys1, N)\n",
    "o_rS_para = ca.SX.sym(\"o_rS_past\", 1)\n",
    "# system 2: Retailer\n",
    "X_sys2_SX = ca.SX.sym(\"X2_SX\", Nx_sys2, N)\n",
    "U_sys2_SX = ca.SX.sym(\"U2_SX\", Nu_sys2, N)\n",
    "o_rR_para = ca.SX.sym(\"o_rR_past\", 1)\n",
    "\n",
    "D_SX = ca.SX.sym(\"D_SX\", Nd, N)"
   ]
  },
  {
   "cell_type": "code",
   "execution_count": 218,
   "metadata": {},
   "outputs": [],
   "source": [
    "# system 1: Supply\n",
    "s_S = X_sys1_SX[0,:].T\n",
    "o_S = X_sys1_SX[1,:].T\n",
    "# system 2: Retailer\n",
    "s_R = X_sys2_SX[0,:].T\n",
    "o_R = X_sys2_SX[1,:].T"
   ]
  },
  {
   "cell_type": "code",
   "execution_count": 219,
   "metadata": {},
   "outputs": [],
   "source": [
    "obj1 =  0\n",
    "obj2 =  0\n",
    "\n",
    "obj1 += W_sS * (ref_sS - s_S).T @ (ref_sS - s_S) + W_oS * (ref_oS - o_S).T @ (ref_oS - o_S)\n",
    "obj2 += W_sR * (ref_sR - s_R).T @ (ref_sR - s_R) + W_oR * (ref_oR - o_R).T @ (ref_oR - o_R)\n",
    "\n",
    "o_rS_past = o_rS_para\n",
    "o_rR_past = o_rR_para\n",
    "\n",
    "\n",
    "for i in range(N):\n",
    "    o_rS_k = U_sys1_SX[0,i]\n",
    "    o_rR_k = U_sys2_SX[0,i]\n",
    "    \n",
    "    obj1 +=  W_deltaS * (o_rS_past - o_rS_k) ** 2\n",
    "    obj2 +=  W_deltaR * (o_rR_past - o_rR_k) ** 2\n",
    "    \n",
    "    o_rS_past = o_rS_k\n",
    "    o_rR_past = o_rR_k\n",
    "\n",
    "para_S = ca.vertcat(ref_sS, ref_oS, o_rS_para)\n",
    "para_R = ca.vertcat(ref_sR, ref_oR, o_rR_para)\n",
    "\n",
    "obj1_func = ca.Function(\"obj1_func\", [X_sys1_SX, U_sys1_SX, para_S], [obj1])\n",
    "obj2_func = ca.Function(\"obj2_func\", [X_sys2_SX, U_sys2_SX, para_R], [obj2])"
   ]
  },
  {
   "cell_type": "markdown",
   "metadata": {},
   "source": [
    "#### Define the ALADIN problem"
   ]
  },
  {
   "cell_type": "markdown",
   "metadata": {},
   "source": [
    "In each prediction step of N: \n",
    "\n",
    "u2_sys1 = u1_sys2\n",
    "\n",
    "x3_sys1 = u2_sys2"
   ]
  },
  {
   "cell_type": "code",
   "execution_count": 220,
   "metadata": {},
   "outputs": [],
   "source": [
    "decision_var_sys1 = ca.vertcat(ca.reshape(X_sys1_SX,-1,1), ca.reshape(U_sys1_SX,-1,1))\n",
    "decision_var_sys2 = ca.vertcat(ca.reshape(X_sys2_SX,-1,1), ca.reshape(U_sys2_SX,-1,1))"
   ]
  },
  {
   "cell_type": "code",
   "execution_count": 221,
   "metadata": {},
   "outputs": [
    {
     "data": {
      "text/plain": [
       "SX([X1_SX_0, X1_SX_1, X1_SX_2, X1_SX_3, X1_SX_4, X1_SX_5, X1_SX_6, X1_SX_7, X1_SX_8, X1_SX_9, X1_SX_10, X1_SX_11, X1_SX_12, X1_SX_13, X1_SX_14, X1_SX_15, X1_SX_16, X1_SX_17, X1_SX_18, X1_SX_19, X1_SX_20, X1_SX_21, X1_SX_22, X1_SX_23, X1_SX_24, X1_SX_25, X1_SX_26, X1_SX_27, X1_SX_28, X1_SX_29, X1_SX_30, X1_SX_31, X1_SX_32, X1_SX_33, X1_SX_34, X1_SX_35, X1_SX_36, X1_SX_37, X1_SX_38, X1_SX_39, X1_SX_40, X1_SX_41, X1_SX_42, X1_SX_43, X1_SX_44, X1_SX_45, X1_SX_46, X1_SX_47, X1_SX_48, X1_SX_49, X1_SX_50, X1_SX_51, X1_SX_52, X1_SX_53, U1_SX_0, U1_SX_1, U1_SX_2, U1_SX_3, U1_SX_4, U1_SX_5, U1_SX_6, U1_SX_7, U1_SX_8, U1_SX_9, U1_SX_10, U1_SX_11])"
      ]
     },
     "execution_count": 221,
     "metadata": {},
     "output_type": "execute_result"
    }
   ],
   "source": [
    "decision_var_sys1"
   ]
  },
  {
   "cell_type": "code",
   "execution_count": 222,
   "metadata": {},
   "outputs": [
    {
     "data": {
      "text/plain": [
       "SX([X2_SX_0, X2_SX_1, X2_SX_2, X2_SX_3, X2_SX_4, X2_SX_5, X2_SX_6, X2_SX_7, X2_SX_8, X2_SX_9, X2_SX_10, X2_SX_11, X2_SX_12, X2_SX_13, X2_SX_14, X2_SX_15, X2_SX_16, X2_SX_17, X2_SX_18, X2_SX_19, X2_SX_20, X2_SX_21, X2_SX_22, X2_SX_23, X2_SX_24, X2_SX_25, X2_SX_26, X2_SX_27, X2_SX_28, X2_SX_29, X2_SX_30, X2_SX_31, X2_SX_32, X2_SX_33, X2_SX_34, X2_SX_35, X2_SX_36, X2_SX_37, X2_SX_38, X2_SX_39, X2_SX_40, X2_SX_41, X2_SX_42, X2_SX_43, X2_SX_44, X2_SX_45, X2_SX_46, X2_SX_47, X2_SX_48, X2_SX_49, X2_SX_50, X2_SX_51, X2_SX_52, X2_SX_53, X2_SX_54, X2_SX_55, X2_SX_56, X2_SX_57, X2_SX_58, X2_SX_59, X2_SX_60, X2_SX_61, X2_SX_62, X2_SX_63, X2_SX_64, X2_SX_65, X2_SX_66, X2_SX_67, X2_SX_68, X2_SX_69, X2_SX_70, X2_SX_71, U2_SX_0, U2_SX_1, U2_SX_2, U2_SX_3, U2_SX_4, U2_SX_5, U2_SX_6, U2_SX_7, U2_SX_8, U2_SX_9, U2_SX_10, U2_SX_11])"
      ]
     },
     "execution_count": 222,
     "metadata": {},
     "output_type": "execute_result"
    }
   ],
   "source": [
    "decision_var_sys2"
   ]
  },
  {
   "cell_type": "code",
   "execution_count": 223,
   "metadata": {},
   "outputs": [
    {
     "data": {
      "text/plain": [
       "SX(\n",
       "[[X1_SX_0, X1_SX_9, X1_SX_18, X1_SX_27, X1_SX_36, X1_SX_45], \n",
       " [X1_SX_1, X1_SX_10, X1_SX_19, X1_SX_28, X1_SX_37, X1_SX_46], \n",
       " [X1_SX_2, X1_SX_11, X1_SX_20, X1_SX_29, X1_SX_38, X1_SX_47], \n",
       " [X1_SX_3, X1_SX_12, X1_SX_21, X1_SX_30, X1_SX_39, X1_SX_48], \n",
       " [X1_SX_4, X1_SX_13, X1_SX_22, X1_SX_31, X1_SX_40, X1_SX_49], \n",
       " [X1_SX_5, X1_SX_14, X1_SX_23, X1_SX_32, X1_SX_41, X1_SX_50], \n",
       " [X1_SX_6, X1_SX_15, X1_SX_24, X1_SX_33, X1_SX_42, X1_SX_51], \n",
       " [X1_SX_7, X1_SX_16, X1_SX_25, X1_SX_34, X1_SX_43, X1_SX_52], \n",
       " [X1_SX_8, X1_SX_17, X1_SX_26, X1_SX_35, X1_SX_44, X1_SX_53]])"
      ]
     },
     "execution_count": 223,
     "metadata": {},
     "output_type": "execute_result"
    }
   ],
   "source": [
    "X_sys1_SX"
   ]
  },
  {
   "cell_type": "code",
   "execution_count": 224,
   "metadata": {},
   "outputs": [
    {
     "data": {
      "text/plain": [
       "SX(\n",
       "[[U1_SX_0, U1_SX_2, U1_SX_4, U1_SX_6, U1_SX_8, U1_SX_10], \n",
       " [U1_SX_1, U1_SX_3, U1_SX_5, U1_SX_7, U1_SX_9, U1_SX_11]])"
      ]
     },
     "execution_count": 224,
     "metadata": {},
     "output_type": "execute_result"
    }
   ],
   "source": [
    "U_sys1_SX"
   ]
  },
  {
   "cell_type": "code",
   "execution_count": 225,
   "metadata": {},
   "outputs": [
    {
     "data": {
      "text/plain": [
       "66"
      ]
     },
     "execution_count": 225,
     "metadata": {},
     "output_type": "execute_result"
    }
   ],
   "source": [
    "(Nx_sys1 + Nu_sys1) * N "
   ]
  },
  {
   "cell_type": "code",
   "execution_count": 226,
   "metadata": {},
   "outputs": [
    {
     "data": {
      "text/plain": [
       "SX(U1_SX_2)"
      ]
     },
     "execution_count": 226,
     "metadata": {},
     "output_type": "execute_result"
    }
   ],
   "source": [
    "decision_var_sys1[Nx_sys1 * N + Nu_sys1 * 0 + 2]"
   ]
  },
  {
   "cell_type": "code",
   "execution_count": 227,
   "metadata": {},
   "outputs": [],
   "source": [
    "# Select matrix A to statisfy the coupled constraints\n",
    "# 2 x N row for each Ai\n",
    "\n",
    "A1 = ca.DM.zeros(2 * N , (Nx_sys1 + Nu_sys1) * N )\n",
    "A2 = ca.DM.zeros(2 * N , (Nx_sys2 + Nu_sys2) * N )\n",
    "\n",
    "for i in range(N):\n",
    "    A1[i, Nx_sys1 * N + Nu_sys1 * i + 1] = 1\n",
    "    A1[i + N, 2 + Nx_sys1 * i ] = 1\n",
    "    \n",
    "    A2[i, Nx_sys2 * N + Nu_sys2 * i ] = -1\n",
    "    A2[i + N, Nx_sys2 * N + Nu_sys2 * i +  1] = -1"
   ]
  },
  {
   "cell_type": "code",
   "execution_count": 228,
   "metadata": {},
   "outputs": [
    {
     "data": {
      "text/plain": [
       "SX([(U1_SX_1-U2_SX_0), (U1_SX_3-U2_SX_2), (U1_SX_5-U2_SX_4), (U1_SX_7-U2_SX_6), (U1_SX_9-U2_SX_8), (U1_SX_11-U2_SX_10), (X1_SX_2-U2_SX_1), (X1_SX_11-U2_SX_3), (X1_SX_20-U2_SX_5), (X1_SX_29-U2_SX_7), (X1_SX_38-U2_SX_9), (X1_SX_47-U2_SX_11)])"
      ]
     },
     "execution_count": 228,
     "metadata": {},
     "output_type": "execute_result"
    }
   ],
   "source": [
    "A1 @ decision_var_sys1 + A2 @ decision_var_sys2"
   ]
  },
  {
   "cell_type": "code",
   "execution_count": 229,
   "metadata": {},
   "outputs": [],
   "source": [
    "np.random.seed(1)\n",
    "eps = 1e-5\n",
    "\n",
    "N_itermax = 10\n",
    "\n",
    "# Define A matrix\n",
    "A_list = []\n",
    "A_list += [A1]\n",
    "A_list += [A2]\n",
    "# Define b\n",
    "b = ca.DM.zeros(2 * N,1)"
   ]
  },
  {
   "cell_type": "code",
   "execution_count": 230,
   "metadata": {},
   "outputs": [
    {
     "data": {
      "text/plain": [
       "SX(@1=30, ((((((((((((((@1*(ref_stock_supplier_0-X1_SX_0))*(ref_stock_supplier_0-X1_SX_0))+((@1*(ref_stock_supplier_1-X1_SX_9))*(ref_stock_supplier_1-X1_SX_9)))+((@1*(ref_stock_supplier_2-X1_SX_18))*(ref_stock_supplier_2-X1_SX_18)))+((@1*(ref_stock_supplier_3-X1_SX_27))*(ref_stock_supplier_3-X1_SX_27)))+((@1*(ref_stock_supplier_4-X1_SX_36))*(ref_stock_supplier_4-X1_SX_36)))+((@1*(ref_stock_supplier_5-X1_SX_45))*(ref_stock_supplier_5-X1_SX_45)))+(((((((@1*(ref_order_supplier_0-X1_SX_1))*(ref_order_supplier_0-X1_SX_1))+((@1*(ref_order_supplier_1-X1_SX_10))*(ref_order_supplier_1-X1_SX_10)))+((@1*(ref_order_supplier_2-X1_SX_19))*(ref_order_supplier_2-X1_SX_19)))+((@1*(ref_order_supplier_3-X1_SX_28))*(ref_order_supplier_3-X1_SX_28)))+((@1*(ref_order_supplier_4-X1_SX_37))*(ref_order_supplier_4-X1_SX_37)))+((@1*(ref_order_supplier_5-X1_SX_46))*(ref_order_supplier_5-X1_SX_46))))+sq((o_rS_past-U1_SX_0)))+sq((U1_SX_0-U1_SX_2)))+sq((U1_SX_2-U1_SX_4)))+sq((U1_SX_4-U1_SX_6)))+sq((U1_SX_6-U1_SX_8)))+sq((U1_SX_8-U1_SX_10))))"
      ]
     },
     "execution_count": 230,
     "metadata": {},
     "output_type": "execute_result"
    }
   ],
   "source": [
    "obj1"
   ]
  },
  {
   "cell_type": "code",
   "execution_count": 231,
   "metadata": {},
   "outputs": [],
   "source": [
    "fi_list = []\n",
    "fi_list += [obj1]\n",
    "fi_list += [obj2]\n",
    "\n",
    "fi_func_list = []\n",
    "fi_func_list += [obj1_func]\n",
    "fi_func_list += [obj2_func]"
   ]
  },
  {
   "cell_type": "code",
   "execution_count": 232,
   "metadata": {},
   "outputs": [],
   "source": [
    "# Define gradtient function\n",
    "fi_grad_list = []\n",
    "fi_grad_func_list = []\n",
    "\n",
    "fi_grad1 = ca.gradient(fi_list[0], decision_var_sys1)\n",
    "fi_grad2 = ca.gradient(fi_list[1], decision_var_sys2)\n",
    "fi_grad_list += [fi_grad1]\n",
    "fi_grad_list += [fi_grad2]\n",
    "\n",
    "fi_grad_func1 = ca.Function(\"fi_grad_func1\", [decision_var_sys1, para_R], [fi_grad1])\n",
    "fi_grad_func2 = ca.Function(\"fi_grad_func2\", [decision_var_sys2, para_R], [fi_grad2])\n",
    "fi_grad_func_list += [fi_grad_func1]\n",
    "fi_grad_func_list += [fi_grad_func2]"
   ]
  },
  {
   "cell_type": "code",
   "execution_count": 238,
   "metadata": {},
   "outputs": [],
   "source": [
    "# Define inequality constraints\n",
    "h1i_list = []\n",
    "h2i_list = []\n",
    "\n",
    "\n",
    "hi_func_list = []\n",
    "Nh_list = []\n",
    "for i in range(N - 1):\n",
    "    x1_k = X_sys1_SX[:,i]\n",
    "    u1_k = U_sys1_SX[:,i]\n",
    "    dk = D_SX[:,i]\n",
    "    x2_k = X_sys2_SX[:,i]\n",
    "    u2_k = U_sys2_SX[:,i]\n",
    "    \n",
    "    x1_next = X_sys1_SX[:,i+1]\n",
    "    x2_next = X_sys2_SX[:,i+1]    \n",
    "    \n",
    "    h1i = f1_dis_func(x1_k,u1_k,dk) - x1_next\n",
    "    h2i = f2_dis_func(x2_k,u2_k,dk) - x2_next\n",
    "\n",
    "    h1i_list += [h1i]\n",
    "    h2i_list += [h2i]    \n",
    "h1 = ca.vertcat(*h1i_list)\n",
    "h2 = ca.vertcat(*h2i_list)\n",
    "h_list = [h1,h2]\n",
    "h1i_func = ca.Function(\"h1i_func\", [decision_var_sys1, D_SX], [h1])\n",
    "h2i_func = ca.Function(\"h2i_func\", [decision_var_sys2, D_SX], [h2])\n",
    "hi_func_list += [h1i_func]\n",
    "hi_func_list += [h2i_func]\n",
    "# Deal with the number of inequality constraints for each i.\n",
    "Nh1 = np.shape(h1)[0]\n",
    "Nh2 = np.shape(h1)[0]\n",
    "Nh_list += [Nh1,Nh2]"
   ]
  },
  {
   "cell_type": "code",
   "execution_count": null,
   "metadata": {},
   "outputs": [],
   "source": [
    "# Define approximate jacobian, real jacobian and Hessian.\n",
    "kappa_i_list = []\n",
    "hi_jac_list = []\n",
    "hi_jac_func_list = []\n",
    "fkh_hess_i_list = []\n",
    "fkh_hess_func_list = []\n",
    "for i in range(N):\n",
    "    # Kappa\n",
    "    kappa_i = ca.SX.sym(\"kappa_i\",Nhi)\n",
    "    kappa_i_list += [kappa_i]\n",
    "    # Jacobian function\n",
    "    hi_jac = ca.jacobian(hi_list[i],x)\n",
    "    hi_jac_list += [hi_jac]\n",
    "    hi_jac_func = ca.Function(\"hi_jac_func\",[x],[hi_jac])\n",
    "    hi_jac_func_list +=  [hi_jac_func]\n",
    "    # Hessian fucntion\n",
    "    fi = fi_list[i]\n",
    "    hi = hi_list[i]\n",
    "    fkh_i = fi + kappa_i.T @ hi\n",
    "    fkh_hess_i = ca.hessian(fkh_i, x)[0]\n",
    "    fkh_hess_i_func = ca.Function(\"fkh_hess_i_func\", [x, kappa_i], [fkh_hess_i])\n",
    "    fkh_hess_i_list += [fkh_hess_i]\n",
    "    fkh_hess_func_list += [fkh_hess_i_func]"
   ]
  }
 ],
 "metadata": {
  "kernelspec": {
   "display_name": "Python 3",
   "language": "python",
   "name": "python3"
  },
  "language_info": {
   "codemirror_mode": {
    "name": "ipython",
    "version": 3
   },
   "file_extension": ".py",
   "mimetype": "text/x-python",
   "name": "python",
   "nbconvert_exporter": "python",
   "pygments_lexer": "ipython3",
   "version": "3.7.7"
  }
 },
 "nbformat": 4,
 "nbformat_minor": 4
}
